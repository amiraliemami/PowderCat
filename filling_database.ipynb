{
 "cells": [
  {
   "cell_type": "code",
   "execution_count": 1,
   "metadata": {},
   "outputs": [],
   "source": [
    "from tools import *\n",
    "from db_tools import *"
   ]
  },
  {
   "cell_type": "markdown",
   "metadata": {},
   "source": [
    "## Prep"
   ]
  },
  {
   "cell_type": "code",
   "execution_count": 3,
   "metadata": {},
   "outputs": [
    {
     "data": {
      "text/plain": [
       "(<sqlite3.Cursor at 0x7f887413e490>, <sqlite3.Connection at 0x7f88741ef810>)"
      ]
     },
     "execution_count": 3,
     "metadata": {},
     "output_type": "execute_result"
    }
   ],
   "source": [
    "# path to development\n",
    "path = '/home/amiremami/OneDrive/University/Project/Development/main_experiment/'\n",
    "#path = 'D:/OneDrive - University of St Andrews/University/Project/Development/main_experiment/'\n",
    "#path = '/home/amir/OneDrive/University/Project/Development/main_experiment/'\n",
    "\n",
    "db_path = path+'data/data.db'\n",
    "initiate_db(db_path)\n",
    "\n",
    "# updates database if rows DO exist - will overwrite old data"
   ]
  },
  {
   "cell_type": "code",
   "execution_count": 3,
   "metadata": {},
   "outputs": [],
   "source": [
    "def filenames(name,n_start):\n",
    "    return [name+str(i) for i in range(n_start,n_start+40)]"
   ]
  },
  {
   "cell_type": "markdown",
   "metadata": {},
   "source": [
    "## Add samples to database"
   ]
  },
  {
   "cell_type": "code",
   "execution_count": 4,
   "metadata": {},
   "outputs": [],
   "source": [
    "name = 'maltose'\n",
    "files = filenames(name,1)\n",
    "write_sample(db_path,name,path+'data/',files,files)"
   ]
  },
  {
   "cell_type": "code",
   "execution_count": 5,
   "metadata": {},
   "outputs": [],
   "source": [
    "name = 'caffeine'\n",
    "files = filenames(name,1)\n",
    "write_sample(db_path,name,path+'data/',files,files)"
   ]
  },
  {
   "cell_type": "code",
   "execution_count": 6,
   "metadata": {},
   "outputs": [],
   "source": [
    "name = 'paracetamol'\n",
    "files = filenames(name,1)\n",
    "write_sample(db_path,name,path+'data/',files,files)"
   ]
  },
  {
   "cell_type": "code",
   "execution_count": 7,
   "metadata": {},
   "outputs": [],
   "source": [
    "name = 'glucose'\n",
    "files = filenames(name,1)\n",
    "write_sample(db_path,name,path+'data/',files,files)"
   ]
  },
  {
   "cell_type": "code",
   "execution_count": 8,
   "metadata": {},
   "outputs": [],
   "source": [
    "name = 'lactose'\n",
    "files = filenames(name,1)\n",
    "write_sample(db_path,name,path+'data/',files,files)"
   ]
  },
  {
   "cell_type": "code",
   "execution_count": 9,
   "metadata": {},
   "outputs": [],
   "source": [
    "name = 'bicarb'\n",
    "files = filenames(name,1)\n",
    "write_sample(db_path,'bakingSoda',path+'data/',files,files)"
   ]
  },
  {
   "cell_type": "code",
   "execution_count": 10,
   "metadata": {},
   "outputs": [],
   "source": [
    "name = 'taurine'\n",
    "files = filenames(name,1)\n",
    "write_sample(db_path,name,path+'data/',files,files)"
   ]
  },
  {
   "cell_type": "code",
   "execution_count": 11,
   "metadata": {},
   "outputs": [],
   "source": [
    "name = 'ibuprofen'\n",
    "files = filenames(name,1)\n",
    "write_sample(db_path,name,path+'data/',files,files)"
   ]
  },
  {
   "cell_type": "code",
   "execution_count": 12,
   "metadata": {},
   "outputs": [],
   "source": [
    "name = 'aspirin'\n",
    "files = filenames(name,1)\n",
    "write_sample(db_path,name,path+'data/',files,files)"
   ]
  },
  {
   "cell_type": "code",
   "execution_count": 13,
   "metadata": {},
   "outputs": [],
   "source": [
    "name = 'talc'\n",
    "files = filenames(name,1)\n",
    "write_sample(db_path,name,path+'data/',files,files)"
   ]
  },
  {
   "cell_type": "markdown",
   "metadata": {},
   "source": [
    "## End"
   ]
  },
  {
   "cell_type": "code",
   "execution_count": 4,
   "metadata": {},
   "outputs": [],
   "source": [
    "close_db(db_path)"
   ]
  },
  {
   "cell_type": "code",
   "execution_count": null,
   "metadata": {},
   "outputs": [],
   "source": []
  },
  {
   "cell_type": "code",
   "execution_count": null,
   "metadata": {},
   "outputs": [],
   "source": []
  }
 ],
 "metadata": {
  "kernelspec": {
   "display_name": "Python 3",
   "language": "python",
   "name": "python3"
  },
  "language_info": {
   "codemirror_mode": {
    "name": "ipython",
    "version": 3
   },
   "file_extension": ".py",
   "mimetype": "text/x-python",
   "name": "python",
   "nbconvert_exporter": "python",
   "pygments_lexer": "ipython3",
   "version": "3.7.2"
  }
 },
 "nbformat": 4,
 "nbformat_minor": 2
}
